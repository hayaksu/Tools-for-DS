{
  "metadata": {
    "kernelspec": {
      "name": "python",
      "display_name": "Pyolite",
      "language": "python"
    },
    "language_info": {
      "codemirror_mode": {
        "name": "python",
        "version": 3
      },
      "file_extension": ".py",
      "mimetype": "text/x-python",
      "name": "python",
      "nbconvert_exporter": "python",
      "pygments_lexer": "ipython3",
      "version": "3.8"
    }
  },
  "nbformat_minor": 4,
  "nbformat": 4,
  "cells": [
    {
      "cell_type": "markdown",
      "source": "<center>\n    <img src=\"https://s3-api.us-geo.objectstorage.softlayer.net/cf-courses-data/CognitiveClass/Logos/organization_logo/organization_logo.png\" width=\"300\" alt=\"cognitiveclass.ai logo\"  />\n</center>\n",
      "metadata": {}
    },
    {
      "cell_type": "markdown",
      "source": "#### Add your code below following the instructions given in the course\n",
      "metadata": {}
    },
    {
      "cell_type": "markdown",
      "source": "# (My Jupyter Notebook on IBM Watson Studio)",
      "metadata": {}
    },
    {
      "cell_type": "markdown",
      "source": "<b> Haya Altuwairji </b> <br>\nResearcher",
      "metadata": {}
    },
    {
      "cell_type": "markdown",
      "source": "<i> I'm intersted in Data Science beacause I enjoy playing with the data.</i>",
      "metadata": {}
    },
    {
      "cell_type": "markdown",
      "source": "<h3> explain in a short sentence what your code is supposed to do in Cell 5. <h3>",
      "metadata": {}
    },
    {
      "cell_type": "code",
      "source": "1+1",
      "metadata": {
        "trusted": true
      },
      "execution_count": 5,
      "outputs": [
        {
          "execution_count": 5,
          "output_type": "execute_result",
          "data": {
            "text/plain": "2"
          },
          "metadata": {}
        }
      ]
    },
    {
      "cell_type": "markdown",
      "source": "<ul>\n<li>Fish</li>\n<li>Eggs</li>\n<li>Cheese</li>\n</ul>",
      "metadata": {}
    },
    {
      "cell_type": "markdown",
      "source": "<ol>\n<li>Fish</li>\n<li>Eggs</li>\n<li>Cheese</li>\n</ol>",
      "metadata": {}
    },
    {
      "cell_type": "markdown",
      "source": ">This is good block qu",
      "metadata": {}
    }
  ]
}